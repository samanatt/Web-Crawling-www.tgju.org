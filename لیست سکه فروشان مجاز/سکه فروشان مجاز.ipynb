{
 "cells": [
  {
   "cell_type": "code",
   "execution_count": 4,
   "id": "a85c0263-fe70-4132-9413-fc39cf0c8cc5",
   "metadata": {},
   "outputs": [],
   "source": [
    "from bs4 import BeautifulSoup\n",
    "import time\n",
    "import requests\n",
    "import csv\n",
    "\n",
    "url = 'https://www.tgju.org/dealers'\n",
    "res = requests.get(url)\n",
    "soup = BeautifulSoup(res.text, 'html.parser')\n",
    "\n",
    "table = soup.find('table', {'class': 'order-table table-style'})\n",
    "rows = table.find_all('tr')\n",
    "\n",
    "data = []\n",
    "for row in rows:\n",
    "    tds = row.find_all('td')\n",
    "    if len(tds) >= 6:\n",
    "        cols = [td.text.strip() for td in tds[:6]]\n",
    "        \n",
    "        #Check Phone Num\n",
    "        tel_raw = cols[4]\n",
    "        tel_parts = tel_raw.split('-')\n",
    "        if len(tel_parts) >= 2:\n",
    "            tel1 = tel_parts[0].strip()\n",
    "            tel2 = tel_parts[1].strip()\n",
    "        else:\n",
    "            tel1 = tel_raw.strip()\n",
    "\n",
    "\n",
    "        \n",
    "        item = [\n",
    "            cols[0], \n",
    "            cols[1],  \n",
    "            cols[2],   \n",
    "            cols[3],   \n",
    "            tel1,     \n",
    "            tel2,    \n",
    "            cols[5] \n",
    "        ]\n",
    "        data.append(item)\n",
    "\n",
    "# ستون‌ها با تلفن جدا شده\n",
    "columns = [\"ردیف\", \"رسته\", \"شماره جواز\", \"مدیر واحد صنفی\", \"تلفن 1\", \"تلفن 2\", \"نشانی\"]\n",
    "\n",
    "with open('لیست سکه فروشی‌های مجاز.csv', 'w', newline='', encoding='utf-8-sig') as f:\n",
    "    writer = csv.writer(f)\n",
    "    writer.writerow(columns)\n",
    "    writer.writerows(data)\n"
   ]
  },
  {
   "cell_type": "code",
   "execution_count": null,
   "id": "204b0587-bc02-4a8c-ba29-4670c151a1ce",
   "metadata": {},
   "outputs": [],
   "source": []
  }
 ],
 "metadata": {
  "kernelspec": {
   "display_name": "Python [conda env:base] *",
   "language": "python",
   "name": "conda-base-py"
  },
  "language_info": {
   "codemirror_mode": {
    "name": "ipython",
    "version": 3
   },
   "file_extension": ".py",
   "mimetype": "text/x-python",
   "name": "python",
   "nbconvert_exporter": "python",
   "pygments_lexer": "ipython3",
   "version": "3.12.7"
  }
 },
 "nbformat": 4,
 "nbformat_minor": 5
}
