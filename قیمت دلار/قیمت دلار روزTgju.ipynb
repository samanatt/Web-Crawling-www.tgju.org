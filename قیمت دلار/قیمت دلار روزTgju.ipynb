{
 "cells": [
  {
   "cell_type": "code",
   "execution_count": 1,
   "id": "7cef4346-081e-46a2-9cdc-87ae8627a407",
   "metadata": {
    "scrolled": true
   },
   "outputs": [
    {
     "name": "stdout",
     "output_type": "stream",
     "text": [
      "اطلاعات در فایل CSV با نام $ Price 2025-06-30.csv ذخیره شد.\n"
     ]
    }
   ],
   "source": [
    "from bs4 import BeautifulSoup\n",
    "import time\n",
    "import pandas as pd\n",
    "import requests\n",
    "import csv\n",
    "\n",
    "\n",
    "url = 'https://www.tgju.org/profile/price_dollar_rl/history'\n",
    "responce = requests.get(url)\n",
    "soup = BeautifulSoup(responce.text, 'html.parser')\n",
    "\n",
    "cell = soup.select_one('#table-list > tr:nth-child(1) ')\n",
    "tds = cell.find_all('td')\n",
    "\n",
    "date_str = tds[6].text.strip()\n",
    "\n",
    "filename_date = date_str.replace('/', '-')\n",
    "filename = f\"$ Price {filename_date}.csv\"\n",
    "\n",
    "\n",
    "\n",
    "row = [\n",
    "    date_str,\n",
    "    tds[3].text.strip(),\n",
    "    tds[0].text.strip(),\n",
    "    tds[1].text.strip(),\n",
    "    tds[2].text.strip(),\n",
    "    tds[5].text.strip(),\n",
    "\n",
    "]\n",
    "\n",
    "# Columns nmae\n",
    "header = ['Today Date','Ending Price', 'Beginning Price', 'Min Price', 'Max Price', 'Percentage']\n",
    "\n",
    "# Write in csv file  \n",
    "with open(filename, 'w', newline='', encoding='utf-8') as csvfile:\n",
    "    writer = csv.writer(csvfile)\n",
    "    writer.writerow(header) \n",
    "    writer.writerow(row)   \n",
    "\n",
    "print(f\"اطلاعات در فایل CSV با نام {filename} ذخیره شد.\")"
   ]
  },
  {
   "cell_type": "code",
   "execution_count": 3,
   "id": "0e340a3f-4a66-442a-a01f-f107e9fb8167",
   "metadata": {},
   "outputs": [
    {
     "name": "stdout",
     "output_type": "stream",
     "text": [
      "Today Date:  2025/06/29\n",
      "Begining Price: 846,400\n",
      "Min Price: 846,100\n",
      "Max Price: 883,500\n",
      "Ending Price: 881,200\n",
      "Percentage:  \n",
      "4.2%\n",
      "\n"
     ]
    }
   ],
   "source": [
    "print('Today Date: ',tds[6].text)\n",
    "print('Begining Price:',tds[0].text)\n",
    "print('Min Price:',tds[1].text)\n",
    "print('Max Price:',tds[2].text)\n",
    "print('Ending Price:',tds[3].text)\n",
    "print('Percentage: ',tds[5].text)"
   ]
  }
 ],
 "metadata": {
  "kernelspec": {
   "display_name": "Python [conda env:base] *",
   "language": "python",
   "name": "conda-base-py"
  },
  "language_info": {
   "codemirror_mode": {
    "name": "ipython",
    "version": 3
   },
   "file_extension": ".py",
   "mimetype": "text/x-python",
   "name": "python",
   "nbconvert_exporter": "python",
   "pygments_lexer": "ipython3",
   "version": "3.12.7"
  }
 },
 "nbformat": 4,
 "nbformat_minor": 5
}
