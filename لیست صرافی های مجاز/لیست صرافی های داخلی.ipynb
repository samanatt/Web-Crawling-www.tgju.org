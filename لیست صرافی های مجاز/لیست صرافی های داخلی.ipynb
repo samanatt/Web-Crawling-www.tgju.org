{
 "cells": [
  {
   "cell_type": "code",
   "execution_count": 3,
   "id": "1890d215-dbf0-4077-bfdb-1b30e3457aee",
   "metadata": {},
   "outputs": [],
   "source": [
    "from bs4 import BeautifulSoup\n",
    "import time\n",
    "import pandas as pd\n",
    "import requests\n",
    "import csv\n",
    "\n",
    "url = 'https://www.tgju.org/crypto/exchanges/local'\n",
    "res = requests.get(url)\n",
    "soup = BeautifulSoup(res.text,'html.parser')\n",
    "\n",
    "\n",
    "table = soup.find('table',{'class':\"exchange-currency-table\"})\n",
    "rows = table.find_all('tr')\n",
    "\n",
    "data = []\n",
    "for row in rows:\n",
    "    sarafi = row.find_all('td',{'class':\"fixed-th unset-dot\"})\n",
    "    #print('\\n',sarafi)\n",
    "    for saraf in sarafi:\n",
    "        tag = saraf.find('a', {'class': 'exchange-title'})\n",
    "        if tag:\n",
    "            name = tag.text.strip()\n",
    "            link = \"https://www.tgju.org/\" + tag.get('href').lstrip('/')\n",
    "            #print(name, '→', link)\n",
    "            data.append((name,link))\n",
    "\n",
    "with open('لیست صرافی های داخلی.csv', 'w', newline='', encoding='utf-8-sig') as f:\n",
    "    writer = csv.writer(f)\n",
    "    writer.writerow(['Name', 'URL'])  \n",
    "    writer.writerows(data)\n"
   ]
  },
  {
   "cell_type": "code",
   "execution_count": null,
   "id": "f43c8ee2-b4d2-45e8-acbe-e8f73fffde58",
   "metadata": {},
   "outputs": [],
   "source": []
  }
 ],
 "metadata": {
  "kernelspec": {
   "display_name": "Python [conda env:base] *",
   "language": "python",
   "name": "conda-base-py"
  },
  "language_info": {
   "codemirror_mode": {
    "name": "ipython",
    "version": 3
   },
   "file_extension": ".py",
   "mimetype": "text/x-python",
   "name": "python",
   "nbconvert_exporter": "python",
   "pygments_lexer": "ipython3",
   "version": "3.12.7"
  }
 },
 "nbformat": 4,
 "nbformat_minor": 5
}
