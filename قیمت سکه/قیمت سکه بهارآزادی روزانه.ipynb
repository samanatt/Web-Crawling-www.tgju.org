{
 "cells": [
  {
   "cell_type": "code",
   "execution_count": 1,
   "id": "dfe7fc7f-14e1-4774-843d-ddb5a4a8fa5d",
   "metadata": {},
   "outputs": [
    {
     "name": "stdout",
     "output_type": "stream",
     "text": [
      "اطلاعات در فایل CSV با نام Coin Price 2025-06-29.csv ذخیره شد.\n"
     ]
    }
   ],
   "source": [
    "from bs4 import BeautifulSoup\n",
    "import time\n",
    "import pandas as pd\n",
    "import requests\n",
    "import csv\n",
    "\n",
    "\n",
    "url = 'https://www.tgju.org/profile/sekeb/history'\n",
    "responce = requests.get(url)\n",
    "soup = BeautifulSoup(responce.text, 'html.parser')\n",
    "\n",
    "cell = soup.select_one('#table-list > tr:nth-child(1) ')\n",
    "tds = cell.find_all('td')\n",
    "\n",
    "date_str = tds[6].text.strip()\n",
    "\n",
    "filename_date = date_str.replace('/', '-')\n",
    "filename = f\"Coin Price {filename_date}.csv\"\n",
    "\n",
    "\n",
    "\n",
    "row = [\n",
    "    date_str,\n",
    "    tds[3].text.strip(),\n",
    "    tds[0].text.strip(),\n",
    "    tds[1].text.strip(),\n",
    "    tds[2].text.strip(),\n",
    "    tds[5].text.strip(),\n",
    "\n",
    "]\n",
    "\n",
    "# Columns names\n",
    "header = ['Today Date','Ending Price', 'Beginning Price', 'Min Price', 'Max Price', 'Percentage']\n",
    "\n",
    "# Write in csv file  \n",
    "with open(filename, 'w', newline='', encoding='utf-8') as csvfile:\n",
    "    writer = csv.writer(csvfile)\n",
    "    writer.writerow(header) \n",
    "    writer.writerow(row)   \n",
    "\n",
    "print(f\"اطلاعات در فایل CSV با نام {filename} ذخیره شد.\")"
   ]
  },
  {
   "cell_type": "code",
   "execution_count": null,
   "id": "2cb52f18-45f3-4eda-89f8-2f55389f214c",
   "metadata": {},
   "outputs": [],
   "source": []
  }
 ],
 "metadata": {
  "kernelspec": {
   "display_name": "Python [conda env:base] *",
   "language": "python",
   "name": "conda-base-py"
  },
  "language_info": {
   "codemirror_mode": {
    "name": "ipython",
    "version": 3
   },
   "file_extension": ".py",
   "mimetype": "text/x-python",
   "name": "python",
   "nbconvert_exporter": "python",
   "pygments_lexer": "ipython3",
   "version": "3.12.7"
  }
 },
 "nbformat": 4,
 "nbformat_minor": 5
}
