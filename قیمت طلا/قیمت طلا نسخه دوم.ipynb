{
 "cells": [
  {
   "cell_type": "markdown",
   "id": "dd59a828-5673-4ce9-931a-32833243c8d5",
   "metadata": {},
   "source": [
    "# Req API from 1403/10/1 "
   ]
  },
  {
   "cell_type": "code",
   "execution_count": 7,
   "id": "e1901705-fd63-47b6-9174-abd080066aee",
   "metadata": {},
   "outputs": [
    {
     "name": "stdout",
     "output_type": "stream",
     "text": [
      "داده‌ها با موفقیت در فایل Gold18_price_history.csv ذخیره شدند.\n"
     ]
    }
   ],
   "source": [
    "import requests\n",
    "import csv\n",
    "\n",
    "url = \"https://api.tgju.org/v1/market/indicator/summary-table-data/geram18\"\n",
    "\n",
    "params = {\n",
    "    \"lang\": \"fa\",\n",
    "    \"order_dir\": \"asc\",\n",
    "    \"draw\": 5,\n",
    "    \"columns[0][data]\": 0,\n",
    "    \"columns[0][name]\": \"\",\n",
    "    \"columns[0][searchable]\": \"true\",\n",
    "    \"columns[0][orderable]\": \"true\",\n",
    "    \"columns[0][search][value]\": \"\",\n",
    "    \"columns[0][search][regex]\": \"false\",\n",
    "    \"columns[1][data]\": 1,\n",
    "    \"columns[1][name]\": \"\",\n",
    "    \"columns[1][searchable]\": \"true\",\n",
    "    \"columns[1][orderable]\": \"true\",\n",
    "    \"columns[1][search][value]\": \"\",\n",
    "    \"columns[1][search][regex]\": \"false\",\n",
    "    \"columns[2][data]\": 2,\n",
    "    \"columns[2][name]\": \"\",\n",
    "    \"columns[2][searchable]\": \"true\",\n",
    "    \"columns[2][orderable]\": \"true\",\n",
    "    \"columns[2][search][value]\": \"\",\n",
    "    \"columns[2][search][regex]\": \"false\",\n",
    "    \"columns[3][data]\": 3,\n",
    "    \"columns[3][name]\": \"\",\n",
    "    \"columns[3][searchable]\": \"true\",\n",
    "    \"columns[3][orderable]\": \"true\",\n",
    "    \"columns[3][search][value]\": \"\",\n",
    "    \"columns[3][search][regex]\": \"false\",\n",
    "    \"columns[4][data]\": 4,\n",
    "    \"columns[4][name]\": \"\",\n",
    "    \"columns[4][searchable]\": \"true\",\n",
    "    \"columns[4][orderable]\": \"true\",\n",
    "    \"columns[4][search][value]\": \"\",\n",
    "    \"columns[4][search][regex]\": \"false\",\n",
    "    \"columns[5][data]\": 5,\n",
    "    \"columns[5][name]\": \"\",\n",
    "    \"columns[5][searchable]\": \"true\",\n",
    "    \"columns[5][orderable]\": \"true\",\n",
    "    \"columns[5][search][value]\": \"\",\n",
    "    \"columns[5][search][regex]\": \"false\",\n",
    "    \"columns[6][data]\": 6,\n",
    "    \"columns[6][name]\": \"\",\n",
    "    \"columns[6][searchable]\": \"true\",\n",
    "    \"columns[6][orderable]\": \"true\",\n",
    "    \"columns[6][search][value]\": \"\",\n",
    "    \"columns[6][search][regex]\": \"false\",\n",
    "    \"columns[7][data]\": 7,\n",
    "    \"columns[7][name]\": \"\",\n",
    "    \"columns[7][searchable]\": \"true\",\n",
    "    \"columns[7][orderable]\": \"true\",\n",
    "    \"columns[7][search][value]\": \"\",\n",
    "    \"columns[7][search][regex]\": \"false\",\n",
    "    \"start\": 0,\n",
    "    \"length\": 144,\n",
    "    \"search\": \"\",\n",
    "    \"order_col\": \"\",\n",
    "    \"order_dir\": \"\",\n",
    "    \"from\": \"1403/10/1\",\n",
    "    \"to\": \"1404/04/12\",\n",
    "    \"convert_to_ad\": 1,\n",
    "    \"_\": 1751375776284\n",
    "}\n",
    "\n",
    "try:\n",
    "    response = requests.get(url, params=params)\n",
    "    response.raise_for_status()\n",
    "    result = response.json()\n",
    "\n",
    "    row_data = result.get(\"data\", [])\n",
    "    extracted = []\n",
    "    for row in row_data:\n",
    "        date = row[-1]\n",
    "        price = row[3]\n",
    "        extracted.append({\"date\": date, \"price\": price})\n",
    "\n",
    "        extracted.sort(key=lambda x: x['date'], reverse=False)\n",
    "\n",
    "    # ذخیره در فایل CSV\n",
    "    with open('Gold18_price_history.csv', 'w', newline='', encoding='utf-8-sig') as csvfile:\n",
    "        fieldnames = ['date', 'price']\n",
    "        writer = csv.DictWriter(csvfile, fieldnames=fieldnames)\n",
    "\n",
    "        writer.writeheader()\n",
    "        for item in extracted[:144]:\n",
    "            writer.writerow(item)\n",
    "\n",
    "    print(\"داده‌ها با موفقیت در فایل Gold18_price_history.csv ذخیره شدند.\")\n",
    "\n",
    "except Exception as e:\n",
    "    print(\"خطا در دریافت یا پردازش داده‌ها:\", e)\n"
   ]
  },
  {
   "cell_type": "code",
   "execution_count": 8,
   "id": "6ebfa975-744a-4c9b-8383-d2408974213a",
   "metadata": {},
   "outputs": [
    {
     "name": "stdout",
     "output_type": "stream",
     "text": [
      "قیمت طلای 18 عیار امروز اضافه شد.\n"
     ]
    }
   ],
   "source": [
    "from bs4 import BeautifulSoup\n",
    "import requests\n",
    "import csv\n",
    "import os\n",
    "\n",
    "url = 'https://www.tgju.org/profile/geram18/history'\n",
    "response = requests.get(url)\n",
    "soup = BeautifulSoup(response.text, 'html.parser')\n",
    "\n",
    "\n",
    "cell = soup.select_one('#table-list > tr:nth-child(1)')\n",
    "tds = cell.find_all('td')\n",
    "\n",
    "date_str = tds[-1].text.strip()\n",
    "\n",
    "row = [\n",
    "    date_str,\n",
    "    tds[3].text.strip(),\n",
    "]\n",
    "\n",
    "header = ['Today Date', 'Price']\n",
    "\n",
    "filename = \"Gold18_price_history.csv\"\n",
    "\n",
    "with open(filename, 'a', newline='', encoding='utf-8-sig') as csvfile:\n",
    "    writer = csv.writer(csvfile)\n",
    "    writer.writerow(row)  # ردیف جدید را اضافه کن\n",
    "print('قیمت طلای 18 عیار امروز اضافه شد.'\n",
    "     )"
   ]
  },
  {
   "cell_type": "code",
   "execution_count": null,
   "id": "ae3fb9ad-35e4-4b51-a5f5-8332a8d25ac7",
   "metadata": {},
   "outputs": [],
   "source": []
  }
 ],
 "metadata": {
  "kernelspec": {
   "display_name": "Python [conda env:base] *",
   "language": "python",
   "name": "conda-base-py"
  },
  "language_info": {
   "codemirror_mode": {
    "name": "ipython",
    "version": 3
   },
   "file_extension": ".py",
   "mimetype": "text/x-python",
   "name": "python",
   "nbconvert_exporter": "python",
   "pygments_lexer": "ipython3",
   "version": "3.12.7"
  }
 },
 "nbformat": 4,
 "nbformat_minor": 5
}
